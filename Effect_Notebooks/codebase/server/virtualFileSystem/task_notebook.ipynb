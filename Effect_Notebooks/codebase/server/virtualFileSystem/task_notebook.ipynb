{
 "cells": [
  {
   "cell_type": "code",
   "execution_count": 2,
   "id": "c7483049",
   "metadata": {},
   "outputs": [],
   "source": [
    "startSample = open(\"${start_csv}\",\"r\")\n",
    "endSample   = open(\"${end_csv}\",\"r\")"
   ]
  },
  {
   "cell_type": "code",
   "execution_count": null,
   "id": "dad1dbae",
   "metadata": {},
   "outputs": [],
   "source": []
  },
  {
   "cell_type": "code",
   "execution_count": 3,
   "id": "5bc5bb06",
   "metadata": {},
   "outputs": [],
   "source": [
    "# USE THIS CELL TO SUBMIT YOUR WORK\n",
    "\n",
    "# You must implement the function cleanData\n",
    "# it will take in a CSV file \n",
    "# and should return a filename of a CSV it has created with the cleaned data\n",
    "\n",
    "def cleanData(inputData):\n",
    "    \n",
    "    # TODO implement the data cleaning method \n",
    "    \n",
    "    cleanDataFilename = None\n",
    "    \n",
    "    # This should be a string containing the name of the file you created\n",
    "    return cleanDataFilename"
   ]
  }
 ],
 "metadata": {
  "kernelspec": {
   "display_name": "Python 3 (ipykernel)",
   "language": "python",
   "name": "python3"
  },
  "language_info": {
   "codemirror_mode": {
    "name": "ipython",
    "version": 3
   },
   "file_extension": ".py",
   "mimetype": "text/x-python",
   "name": "python",
   "nbconvert_exporter": "python",
   "pygments_lexer": "ipython3",
   "version": "3.9.0"
  }
 },
 "nbformat": 4,
 "nbformat_minor": 5
}
